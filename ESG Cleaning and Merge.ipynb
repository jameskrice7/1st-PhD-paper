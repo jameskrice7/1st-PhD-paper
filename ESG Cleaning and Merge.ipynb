{
 "cells": [
  {
   "cell_type": "code",
   "execution_count": 1,
   "metadata": {},
   "outputs": [],
   "source": [
    "import pandas as pd"
   ]
  },
  {
   "cell_type": "code",
   "execution_count": 88,
   "metadata": {},
   "outputs": [],
   "source": [
    "# Load datasets from Excel files.\n",
    "# header=6 tells pandas that the 7th row contains the column names, so data starts on the 8th row.\n",
    "df2023 = pd.read_excel('C:/Users/jr24440/Downloads/LSEG ESG FULL 2023.xlsx', header=6)\n",
    "df2022 = pd.read_excel('C:/Users/jr24440/Downloads/LSEG ESG FULL 2022.xlsx', header=6)\n",
    "df2021 = pd.read_excel('C:/Users/jr24440/Downloads/LSEG ESG FULL 2021.xlsx', header=6)\n",
    "df2020 = pd.read_excel('C:/Users/jr24440/Downloads/LSEG ESG FULL 2020.xlsx', header=6)\n",
    "df2019 = pd.read_excel('C:/Users/jr24440/Downloads/LSEG ESG FULL 2019.xlsx', header=6)"
   ]
  },
  {
   "cell_type": "code",
   "execution_count": 89,
   "metadata": {},
   "outputs": [
    {
     "name": "stdout",
     "output_type": "stream",
     "text": [
      "   Unnamed: 0 Updated at 12:13:41  \\\n",
      "0         NaN               KE.OQ   \n",
      "1         NaN            PATAm.BA   \n",
      "2         NaN            COMEm.BA   \n",
      "3         NaN            SEMIm.BA   \n",
      "4         NaN            LEDEm.BA   \n",
      "\n",
      "                            Company Common Name       Country of Exchange  \\\n",
      "0                       Kimball Electronics Inc  United States of America   \n",
      "1  Importadora y Exportadora de la Patagonia SA                 Argentina   \n",
      "2               Sociedad Comercial del Plata SA                 Argentina   \n",
      "3                        Molinos Juan Semino SA                 Argentina   \n",
      "4                                  Ledesma SAAI                 Argentina   \n",
      "\n",
      "                   TRBC Industry Group Name  Company Market Cap  ESG Score  \\\n",
      "0  Semiconductors & Semiconductor Equipment          421.603564  60.265818   \n",
      "1                     Food & Drug Retailing          589.556429  51.744967   \n",
      "2                                 Oil & Gas          552.127894  11.556929   \n",
      "3                            Food & Tobacco           65.390005  14.534826   \n",
      "4                            Food & Tobacco          615.819654  50.554813   \n",
      "\n",
      "   ESG Combined Score  Environmental Pillar Score  Social Pillar Score  \\\n",
      "0           60.265818                   52.283778            79.742480   \n",
      "1           51.744967                   38.371223            52.857349   \n",
      "2           11.556929                    0.000000            12.288542   \n",
      "3           14.534826                    5.931264             7.512968   \n",
      "4           50.554813                   62.406509            46.293266   \n",
      "\n",
      "   Governance Pillar Score  CO2 Equivalent Emissions Total  \n",
      "0                37.707773                        54401.00  \n",
      "1                60.952381                       134770.29  \n",
      "2                27.202381                             NaN  \n",
      "3                36.130952                             NaN  \n",
      "4                44.880952                       453667.00  \n"
     ]
    }
   ],
   "source": [
    "print(df2023.head())"
   ]
  },
  {
   "cell_type": "code",
   "execution_count": 90,
   "metadata": {},
   "outputs": [
    {
     "name": "stdout",
     "output_type": "stream",
     "text": [
      "   Unnamed: 0 Updated at 12:11:04  \\\n",
      "0         NaN               KE.OQ   \n",
      "1         NaN            PATAm.BA   \n",
      "2         NaN            COMEm.BA   \n",
      "3         NaN            SEMIm.BA   \n",
      "4         NaN            LEDEm.BA   \n",
      "\n",
      "                            Company Common Name       Country of Exchange  \\\n",
      "0                       Kimball Electronics Inc  United States of America   \n",
      "1  Importadora y Exportadora de la Patagonia SA                 Argentina   \n",
      "2               Sociedad Comercial del Plata SA                 Argentina   \n",
      "3                        Molinos Juan Semino SA                 Argentina   \n",
      "4                                  Ledesma SAAI                 Argentina   \n",
      "\n",
      "                   TRBC Industry Group Name  Company Market Cap  ESG Score  \\\n",
      "0  Semiconductors & Semiconductor Equipment          421.603564  67.064215   \n",
      "1                     Food & Drug Retailing          589.556429  45.458277   \n",
      "2                                 Oil & Gas          552.127894  11.364004   \n",
      "3                            Food & Tobacco           65.390005  15.824049   \n",
      "4                            Food & Tobacco          615.819654  55.046961   \n",
      "\n",
      "   ESG Combined Score  Environmental Pillar Score  Social Pillar Score  \\\n",
      "0           67.064215                   46.880733            81.869163   \n",
      "1           45.458277                   49.498543            43.414311   \n",
      "2           11.364004                    0.000000            12.111415   \n",
      "3           15.824049                    7.133378             7.054445   \n",
      "4           55.046961                   66.258861            49.278145   \n",
      "\n",
      "   Governance Pillar Score  CO2 Equivalent Emissions Total  \n",
      "0                66.856230                        44495.00  \n",
      "1                45.485056                       125043.57  \n",
      "2                26.698328                             NaN  \n",
      "3                40.535714                             NaN  \n",
      "4                52.681104                       433118.00  \n"
     ]
    }
   ],
   "source": [
    "print(df2022.head())"
   ]
  },
  {
   "cell_type": "code",
   "execution_count": 91,
   "metadata": {},
   "outputs": [
    {
     "name": "stdout",
     "output_type": "stream",
     "text": [
      "   Unnamed: 0 Updated at 12:04:20  \\\n",
      "0         NaN               KE.OQ   \n",
      "1         NaN            PATAm.BA   \n",
      "2         NaN            COMEm.BA   \n",
      "3         NaN            SEMIm.BA   \n",
      "4         NaN            LEDEm.BA   \n",
      "\n",
      "                            Company Common Name       Country of Exchange  \\\n",
      "0                       Kimball Electronics Inc  United States of America   \n",
      "1  Importadora y Exportadora de la Patagonia SA                 Argentina   \n",
      "2               Sociedad Comercial del Plata SA                 Argentina   \n",
      "3                        Molinos Juan Semino SA                 Argentina   \n",
      "4                                  Ledesma SAAI                 Argentina   \n",
      "\n",
      "                   TRBC Industry Group Name  Company Market Cap  ESG Score  \\\n",
      "0  Semiconductors & Semiconductor Equipment          421.603564  54.709854   \n",
      "1                     Food & Drug Retailing          589.556429  11.717591   \n",
      "2                                 Oil & Gas          552.127894  13.433487   \n",
      "3                            Food & Tobacco           65.390005  17.675580   \n",
      "4                            Food & Tobacco          615.819654  52.035698   \n",
      "\n",
      "   ESG Combined Score  Environmental Pillar Score  Social Pillar Score  \\\n",
      "0           54.709854                   45.355903            79.702058   \n",
      "1           11.717591                    9.659091            16.038159   \n",
      "2           13.433487                    0.000000            12.463194   \n",
      "3           17.675580                    9.561538             7.159710   \n",
      "4           52.035698                   59.220385            47.315327   \n",
      "\n",
      "   Governance Pillar Score  CO2 Equivalent Emissions Total  \n",
      "0                24.697457                        42738.00  \n",
      "1                 6.475487                       107873.04  \n",
      "2                34.866291                             NaN  \n",
      "3                44.770115                             NaN  \n",
      "4                52.288295                       440321.00  \n"
     ]
    }
   ],
   "source": [
    "print(df2021.head())"
   ]
  },
  {
   "cell_type": "code",
   "execution_count": 92,
   "metadata": {},
   "outputs": [
    {
     "name": "stdout",
     "output_type": "stream",
     "text": [
      "   Unnamed: 0 Updated at 12:05:20  \\\n",
      "0         NaN               KE.OQ   \n",
      "1         NaN            PATAm.BA   \n",
      "2         NaN            COMEm.BA   \n",
      "3         NaN            SEMIm.BA   \n",
      "4         NaN            LEDEm.BA   \n",
      "\n",
      "                            Company Common Name       Country of Exchange  \\\n",
      "0                       Kimball Electronics Inc  United States of America   \n",
      "1  Importadora y Exportadora de la Patagonia SA                 Argentina   \n",
      "2               Sociedad Comercial del Plata SA                 Argentina   \n",
      "3                        Molinos Juan Semino SA                 Argentina   \n",
      "4                                  Ledesma SAAI                 Argentina   \n",
      "\n",
      "                   TRBC Industry Group Name  Company Market Cap  ESG Score  \\\n",
      "0  Semiconductors & Semiconductor Equipment          421.603564  42.090706   \n",
      "1                     Food & Drug Retailing          589.556429  11.024168   \n",
      "2                                 Oil & Gas          552.127894  14.118922   \n",
      "3                            Food & Tobacco           65.390005  11.388801   \n",
      "4                            Food & Tobacco          615.819654  47.412697   \n",
      "\n",
      "   ESG Combined Score  Environmental Pillar Score  Social Pillar Score  \\\n",
      "0           42.090706                   42.413639            54.525052   \n",
      "1           11.024168                    3.084936            19.719140   \n",
      "2           14.118922                    0.000000            12.439620   \n",
      "3           11.388801                    9.095068             7.899598   \n",
      "4           47.412697                   57.199267            44.748853   \n",
      "\n",
      "   Governance Pillar Score  CO2 Equivalent Emissions Total  \n",
      "0                21.186515                         50126.0  \n",
      "1                 3.511905                             NaN  \n",
      "2                37.821429                             NaN  \n",
      "3                19.940476                             NaN  \n",
      "4                41.250000                        446834.0  \n"
     ]
    }
   ],
   "source": [
    "print(df2020.head())"
   ]
  },
  {
   "cell_type": "code",
   "execution_count": 93,
   "metadata": {},
   "outputs": [
    {
     "name": "stdout",
     "output_type": "stream",
     "text": [
      "   Unnamed: 0 Updated at 12:06:08  \\\n",
      "0         NaN               KE.OQ   \n",
      "1         NaN            PATAm.BA   \n",
      "2         NaN            COMEm.BA   \n",
      "3         NaN            SEMIm.BA   \n",
      "4         NaN            LEDEm.BA   \n",
      "\n",
      "                            Company Common Name       Country of Exchange  \\\n",
      "0                       Kimball Electronics Inc  United States of America   \n",
      "1  Importadora y Exportadora de la Patagonia SA                 Argentina   \n",
      "2               Sociedad Comercial del Plata SA                 Argentina   \n",
      "3                        Molinos Juan Semino SA                 Argentina   \n",
      "4                                  Ledesma SAAI                 Argentina   \n",
      "\n",
      "                   TRBC Industry Group Name  Company Market Cap  ESG Score  \\\n",
      "0  Semiconductors & Semiconductor Equipment          421.603564  40.197088   \n",
      "1                     Food & Drug Retailing          589.556429   5.495218   \n",
      "2                                 Oil & Gas          552.127894  16.448145   \n",
      "3                            Food & Tobacco           65.390005   9.152392   \n",
      "4                            Food & Tobacco          615.819654  45.714994   \n",
      "\n",
      "   ESG Combined Score  Environmental Pillar Score  Social Pillar Score  \\\n",
      "0           40.197088                   34.726769            53.404231   \n",
      "1            5.495218                    3.604869             6.828940   \n",
      "2           16.448145                    0.000000            12.401583   \n",
      "3            9.152392                    6.606765             6.045020   \n",
      "4           45.714994                   59.243763            42.320246   \n",
      "\n",
      "   Governance Pillar Score  CO2 Equivalent Emissions Total  \n",
      "0                24.969684                         52323.0  \n",
      "1                 4.880952                             NaN  \n",
      "2                47.788462                             NaN  \n",
      "3                17.321429                             NaN  \n",
      "4                36.698718                        493245.0  \n"
     ]
    }
   ],
   "source": [
    "print(df2019.head())"
   ]
  },
  {
   "cell_type": "code",
   "execution_count": 94,
   "metadata": {},
   "outputs": [],
   "source": [
    "df2023.rename(columns=lambda col: \"Ticker\" if col.startswith(\"Updated\") else col, inplace=True)\n",
    "df2022.rename(columns=lambda col: \"Ticker\" if col.startswith(\"Updated\") else col, inplace=True)\n",
    "df2021.rename(columns=lambda col: \"Ticker\" if col.startswith(\"Updated\") else col, inplace=True)\n",
    "df2020.rename(columns=lambda col: \"Ticker\" if col.startswith(\"Updated\") else col, inplace=True)\n",
    "df2019.rename(columns=lambda col: \"Ticker\" if col.startswith(\"Updated\") else col, inplace=True)\n"
   ]
  },
  {
   "cell_type": "code",
   "execution_count": 95,
   "metadata": {},
   "outputs": [],
   "source": [
    "dfs = [df2023, df2022, df2021, df2020, df2019]"
   ]
  },
  {
   "cell_type": "code",
   "execution_count": 96,
   "metadata": {},
   "outputs": [],
   "source": [
    "# Add snapshot dates (adjust these dates accordingly)\n",
    "dfs[0]['snapshot_date'] = '2023-01-01'\n",
    "dfs[1]['snapshot_date'] = '2022-01-01'\n",
    "dfs[2]['snapshot_date'] = '2021-01-01'\n",
    "dfs[3]['snapshot_date'] = '2020-01-01'\n",
    "dfs[4]['snapshot_date'] = '2019-01-01'\n"
   ]
  },
  {
   "cell_type": "code",
   "execution_count": 98,
   "metadata": {},
   "outputs": [],
   "source": [
    "# Iterate over each DataFrame and drop the 'Unnamed: 0' column if it exists\n",
    "for df in dfs:\n",
    "    if 'Unnamed: 0' in df.columns:\n",
    "        df.drop(columns=['Unnamed: 0'], inplace=True)"
   ]
  },
  {
   "cell_type": "code",
   "execution_count": 99,
   "metadata": {},
   "outputs": [
    {
     "name": "stdout",
     "output_type": "stream",
     "text": [
      "     Ticker                           Company Common Name  \\\n",
      "0     KE.OQ                       Kimball Electronics Inc   \n",
      "1  PATAm.BA  Importadora y Exportadora de la Patagonia SA   \n",
      "2  COMEm.BA               Sociedad Comercial del Plata SA   \n",
      "3  SEMIm.BA                        Molinos Juan Semino SA   \n",
      "4  LEDEm.BA                                  Ledesma SAAI   \n",
      "\n",
      "        Country of Exchange                  TRBC Industry Group Name  \\\n",
      "0  United States of America  Semiconductors & Semiconductor Equipment   \n",
      "1                 Argentina                     Food & Drug Retailing   \n",
      "2                 Argentina                                 Oil & Gas   \n",
      "3                 Argentina                            Food & Tobacco   \n",
      "4                 Argentina                            Food & Tobacco   \n",
      "\n",
      "   Company Market Cap  ESG Score  ESG Combined Score  \\\n",
      "0          421.603564  67.064215           67.064215   \n",
      "1          589.556429  45.458277           45.458277   \n",
      "2          552.127894  11.364004           11.364004   \n",
      "3           65.390005  15.824049           15.824049   \n",
      "4          615.819654  55.046961           55.046961   \n",
      "\n",
      "   Environmental Pillar Score  Social Pillar Score  Governance Pillar Score  \\\n",
      "0                   46.880733            81.869163                66.856230   \n",
      "1                   49.498543            43.414311                45.485056   \n",
      "2                    0.000000            12.111415                26.698328   \n",
      "3                    7.133378             7.054445                40.535714   \n",
      "4                   66.258861            49.278145                52.681104   \n",
      "\n",
      "   CO2 Equivalent Emissions Total snapshot_date  \n",
      "0                        44495.00    2022-01-01  \n",
      "1                       125043.57    2022-01-01  \n",
      "2                             NaN    2022-01-01  \n",
      "3                             NaN    2022-01-01  \n",
      "4                       433118.00    2022-01-01  \n"
     ]
    }
   ],
   "source": [
    "print(df2022.head())"
   ]
  },
  {
   "cell_type": "code",
   "execution_count": 100,
   "metadata": {},
   "outputs": [
    {
     "name": "stdout",
     "output_type": "stream",
     "text": [
      "     Ticker                           Company Common Name  \\\n",
      "0     KE.OQ                       Kimball Electronics Inc   \n",
      "1  PATAm.BA  Importadora y Exportadora de la Patagonia SA   \n",
      "2  COMEm.BA               Sociedad Comercial del Plata SA   \n",
      "3  SEMIm.BA                        Molinos Juan Semino SA   \n",
      "4  LEDEm.BA                                  Ledesma SAAI   \n",
      "\n",
      "        Country of Exchange                  TRBC Industry Group Name  \\\n",
      "0  United States of America  Semiconductors & Semiconductor Equipment   \n",
      "1                 Argentina                     Food & Drug Retailing   \n",
      "2                 Argentina                                 Oil & Gas   \n",
      "3                 Argentina                            Food & Tobacco   \n",
      "4                 Argentina                            Food & Tobacco   \n",
      "\n",
      "   Company Market Cap  ESG Score  ESG Combined Score  \\\n",
      "0          421.603564  60.265818           60.265818   \n",
      "1          589.556429  51.744967           51.744967   \n",
      "2          552.127894  11.556929           11.556929   \n",
      "3           65.390005  14.534826           14.534826   \n",
      "4          615.819654  50.554813           50.554813   \n",
      "\n",
      "   Environmental Pillar Score  Social Pillar Score  Governance Pillar Score  \\\n",
      "0                   52.283778            79.742480                37.707773   \n",
      "1                   38.371223            52.857349                60.952381   \n",
      "2                    0.000000            12.288542                27.202381   \n",
      "3                    5.931264             7.512968                36.130952   \n",
      "4                   62.406509            46.293266                44.880952   \n",
      "\n",
      "   CO2 Equivalent Emissions Total snapshot_date  \n",
      "0                        54401.00    2023-01-01  \n",
      "1                       134770.29    2023-01-01  \n",
      "2                             NaN    2023-01-01  \n",
      "3                             NaN    2023-01-01  \n",
      "4                       453667.00    2023-01-01  \n"
     ]
    }
   ],
   "source": [
    "print(df2023.head())"
   ]
  },
  {
   "cell_type": "code",
   "execution_count": 101,
   "metadata": {},
   "outputs": [],
   "source": [
    "# Concatenate the snapshots to form a time series DataFrame\n",
    "merged_df = pd.concat(dfs, ignore_index=True)\n",
    "merged_df = merged_df.sort_values(by=['Company Common Name', 'snapshot_date'])\n"
   ]
  },
  {
   "cell_type": "code",
   "execution_count": 102,
   "metadata": {},
   "outputs": [
    {
     "name": "stdout",
     "output_type": "stream",
     "text": [
      "       Ticker Company Common Name Country of Exchange  \\\n",
      "24503  1U1.DE              1&1 AG             Germany   \n",
      "18644  1U1.DE              1&1 AG             Germany   \n",
      "12393  1U1.DE              1&1 AG             Germany   \n",
      "5959   1U1.DE              1&1 AG             Germany   \n",
      "656    1U1.DE              1&1 AG             Germany   \n",
      "\n",
      "          TRBC Industry Group Name  Company Market Cap  ESG Score  \\\n",
      "24503  Telecommunications Services         2788.711739  34.932175   \n",
      "18644  Telecommunications Services         2788.711739  42.295216   \n",
      "12393  Telecommunications Services         2788.711739  58.497492   \n",
      "5959   Telecommunications Services         2788.711739  69.198438   \n",
      "656    Telecommunications Services         2788.711739  69.940814   \n",
      "\n",
      "       ESG Combined Score  Environmental Pillar Score  Social Pillar Score  \\\n",
      "24503           34.932175                   39.433142            37.899445   \n",
      "18644           42.295216                   45.422365            46.492585   \n",
      "12393           58.497492                   49.344504            69.315140   \n",
      "5959            69.198438                   52.597264            75.986168   \n",
      "656             69.940814                   59.690056            75.210116   \n",
      "\n",
      "       Governance Pillar Score  CO2 Equivalent Emissions Total snapshot_date  \n",
      "24503                25.530407                           936.9    2019-01-01  \n",
      "18644                31.479677                           954.9    2020-01-01  \n",
      "12393                43.819390                          1107.3    2021-01-01  \n",
      "5959                 68.312834                          1653.3    2022-01-01  \n",
      "656                  67.231850                          3819.0    2023-01-01  \n"
     ]
    }
   ],
   "source": [
    "print(merged_df.head())"
   ]
  },
  {
   "cell_type": "code",
   "execution_count": 103,
   "metadata": {},
   "outputs": [
    {
     "name": "stdout",
     "output_type": "stream",
     "text": [
      "Number of rows remaining: 16628\n"
     ]
    }
   ],
   "source": [
    "# Drop rows with any missing values\n",
    "df_merged = merged_df.dropna()\n",
    "\n",
    "# Count the number of remaining rows\n",
    "row_count = df_merged.shape[0]\n",
    "print(\"Number of rows remaining:\", row_count)"
   ]
  },
  {
   "cell_type": "code",
   "execution_count": 104,
   "metadata": {},
   "outputs": [],
   "source": [
    "# Save the merged dataset to a new Excel file\n",
    "df_merged.to_excel('C:/Users/jr24440/Downloads/merged_dataset_ESG.xlsx', index=False)"
   ]
  }
 ],
 "metadata": {
  "kernelspec": {
   "display_name": "Python 3",
   "language": "python",
   "name": "python3"
  },
  "language_info": {
   "codemirror_mode": {
    "name": "ipython",
    "version": 3
   },
   "file_extension": ".py",
   "mimetype": "text/x-python",
   "name": "python",
   "nbconvert_exporter": "python",
   "pygments_lexer": "ipython3",
   "version": "3.11.9"
  }
 },
 "nbformat": 4,
 "nbformat_minor": 2
}
