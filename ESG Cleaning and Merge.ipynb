{
 "cells": [
  {
   "cell_type": "code",
   "execution_count": 2,
   "metadata": {},
   "outputs": [],
   "source": [
    "import pandas as pd"
   ]
  },
  {
   "cell_type": "code",
   "execution_count": 3,
   "metadata": {},
   "outputs": [],
   "source": [
    "# Load datasets from Excel files.\n",
    "# header=6 tells pandas that the 7th row contains the column names, so data starts on the 8th row.\n",
    "df2023 = pd.read_excel('C:/Users/jr24440/Downloads/LSEG ESG FULL 2023.xlsx', header=6)\n",
    "df2022 = pd.read_excel('C:/Users/jr24440/Downloads/LSEG ESG FULL 2022.xlsx', header=6)\n",
    "df2021 = pd.read_excel('C:/Users/jr24440/Downloads/LSEG ESG FULL 2021.xlsx', header=6)\n",
    "df2020 = pd.read_excel('C:/Users/jr24440/Downloads/LSEG ESG FULL 2020.xlsx', header=6)\n",
    "df2019 = pd.read_excel('C:/Users/jr24440/Downloads/LSEG ESG FULL 2019.xlsx', header=6)"
   ]
  },
  {
   "cell_type": "code",
   "execution_count": 4,
   "metadata": {},
   "outputs": [
    {
     "name": "stdout",
     "output_type": "stream",
     "text": [
      "   Unnamed: 0 Updated at 12:13:41  \\\n",
      "0         NaN               KE.OQ   \n",
      "1         NaN            PATAm.BA   \n",
      "2         NaN            COMEm.BA   \n",
      "3         NaN            SEMIm.BA   \n",
      "4         NaN            LEDEm.BA   \n",
      "\n",
      "                            Company Common Name       Country of Exchange  \\\n",
      "0                       Kimball Electronics Inc  United States of America   \n",
      "1  Importadora y Exportadora de la Patagonia SA                 Argentina   \n",
      "2               Sociedad Comercial del Plata SA                 Argentina   \n",
      "3                        Molinos Juan Semino SA                 Argentina   \n",
      "4                                  Ledesma SAAI                 Argentina   \n",
      "\n",
      "                   TRBC Industry Group Name  Company Market Cap  ESG Score  \\\n",
      "0  Semiconductors & Semiconductor Equipment          421.603564  60.265818   \n",
      "1                     Food & Drug Retailing          589.556429  51.744967   \n",
      "2                                 Oil & Gas          552.127894  11.556929   \n",
      "3                            Food & Tobacco           65.390005  14.534826   \n",
      "4                            Food & Tobacco          615.819654  50.554813   \n",
      "\n",
      "   ESG Combined Score  Environmental Pillar Score  Social Pillar Score  \\\n",
      "0           60.265818                   52.283778            79.742480   \n",
      "1           51.744967                   38.371223            52.857349   \n",
      "2           11.556929                    0.000000            12.288542   \n",
      "3           14.534826                    5.931264             7.512968   \n",
      "4           50.554813                   62.406509            46.293266   \n",
      "\n",
      "   Governance Pillar Score  CO2 Equivalent Emissions Total  \n",
      "0                37.707773                        54401.00  \n",
      "1                60.952381                       134770.29  \n",
      "2                27.202381                             NaN  \n",
      "3                36.130952                             NaN  \n",
      "4                44.880952                       453667.00  \n"
     ]
    }
   ],
   "source": [
    "print(df2023.head())"
   ]
  },
  {
   "cell_type": "code",
   "execution_count": 5,
   "metadata": {},
   "outputs": [
    {
     "name": "stdout",
     "output_type": "stream",
     "text": [
      "   Unnamed: 0 Updated at 12:11:04  \\\n",
      "0         NaN               KE.OQ   \n",
      "1         NaN            PATAm.BA   \n",
      "2         NaN            COMEm.BA   \n",
      "3         NaN            SEMIm.BA   \n",
      "4         NaN            LEDEm.BA   \n",
      "\n",
      "                            Company Common Name       Country of Exchange  \\\n",
      "0                       Kimball Electronics Inc  United States of America   \n",
      "1  Importadora y Exportadora de la Patagonia SA                 Argentina   \n",
      "2               Sociedad Comercial del Plata SA                 Argentina   \n",
      "3                        Molinos Juan Semino SA                 Argentina   \n",
      "4                                  Ledesma SAAI                 Argentina   \n",
      "\n",
      "                   TRBC Industry Group Name  Company Market Cap  ESG Score  \\\n",
      "0  Semiconductors & Semiconductor Equipment          421.603564  67.064215   \n",
      "1                     Food & Drug Retailing          589.556429  45.458277   \n",
      "2                                 Oil & Gas          552.127894  11.364004   \n",
      "3                            Food & Tobacco           65.390005  15.824049   \n",
      "4                            Food & Tobacco          615.819654  55.046961   \n",
      "\n",
      "   ESG Combined Score  Environmental Pillar Score  Social Pillar Score  \\\n",
      "0           67.064215                   46.880733            81.869163   \n",
      "1           45.458277                   49.498543            43.414311   \n",
      "2           11.364004                    0.000000            12.111415   \n",
      "3           15.824049                    7.133378             7.054445   \n",
      "4           55.046961                   66.258861            49.278145   \n",
      "\n",
      "   Governance Pillar Score  CO2 Equivalent Emissions Total  \n",
      "0                66.856230                        44495.00  \n",
      "1                45.485056                       125043.57  \n",
      "2                26.698328                             NaN  \n",
      "3                40.535714                             NaN  \n",
      "4                52.681104                       433118.00  \n"
     ]
    }
   ],
   "source": [
    "print(df2022.head())"
   ]
  },
  {
   "cell_type": "code",
   "execution_count": 6,
   "metadata": {},
   "outputs": [
    {
     "name": "stdout",
     "output_type": "stream",
     "text": [
      "   Unnamed: 0 Updated at 12:04:20  \\\n",
      "0         NaN               KE.OQ   \n",
      "1         NaN            PATAm.BA   \n",
      "2         NaN            COMEm.BA   \n",
      "3         NaN            SEMIm.BA   \n",
      "4         NaN            LEDEm.BA   \n",
      "\n",
      "                            Company Common Name       Country of Exchange  \\\n",
      "0                       Kimball Electronics Inc  United States of America   \n",
      "1  Importadora y Exportadora de la Patagonia SA                 Argentina   \n",
      "2               Sociedad Comercial del Plata SA                 Argentina   \n",
      "3                        Molinos Juan Semino SA                 Argentina   \n",
      "4                                  Ledesma SAAI                 Argentina   \n",
      "\n",
      "                   TRBC Industry Group Name  Company Market Cap  ESG Score  \\\n",
      "0  Semiconductors & Semiconductor Equipment          421.603564  54.709854   \n",
      "1                     Food & Drug Retailing          589.556429  11.717591   \n",
      "2                                 Oil & Gas          552.127894  13.433487   \n",
      "3                            Food & Tobacco           65.390005  17.675580   \n",
      "4                            Food & Tobacco          615.819654  52.035698   \n",
      "\n",
      "   ESG Combined Score  Environmental Pillar Score  Social Pillar Score  \\\n",
      "0           54.709854                   45.355903            79.702058   \n",
      "1           11.717591                    9.659091            16.038159   \n",
      "2           13.433487                    0.000000            12.463194   \n",
      "3           17.675580                    9.561538             7.159710   \n",
      "4           52.035698                   59.220385            47.315327   \n",
      "\n",
      "   Governance Pillar Score  CO2 Equivalent Emissions Total  \n",
      "0                24.697457                        42738.00  \n",
      "1                 6.475487                       107873.04  \n",
      "2                34.866291                             NaN  \n",
      "3                44.770115                             NaN  \n",
      "4                52.288295                       440321.00  \n"
     ]
    }
   ],
   "source": [
    "print(df2021.head())"
   ]
  },
  {
   "cell_type": "code",
   "execution_count": 7,
   "metadata": {},
   "outputs": [
    {
     "name": "stdout",
     "output_type": "stream",
     "text": [
      "   Unnamed: 0 Updated at 12:05:20  \\\n",
      "0         NaN               KE.OQ   \n",
      "1         NaN            PATAm.BA   \n",
      "2         NaN            COMEm.BA   \n",
      "3         NaN            SEMIm.BA   \n",
      "4         NaN            LEDEm.BA   \n",
      "\n",
      "                            Company Common Name       Country of Exchange  \\\n",
      "0                       Kimball Electronics Inc  United States of America   \n",
      "1  Importadora y Exportadora de la Patagonia SA                 Argentina   \n",
      "2               Sociedad Comercial del Plata SA                 Argentina   \n",
      "3                        Molinos Juan Semino SA                 Argentina   \n",
      "4                                  Ledesma SAAI                 Argentina   \n",
      "\n",
      "                   TRBC Industry Group Name  Company Market Cap  ESG Score  \\\n",
      "0  Semiconductors & Semiconductor Equipment          421.603564  42.090706   \n",
      "1                     Food & Drug Retailing          589.556429  11.024168   \n",
      "2                                 Oil & Gas          552.127894  14.118922   \n",
      "3                            Food & Tobacco           65.390005  11.388801   \n",
      "4                            Food & Tobacco          615.819654  47.412697   \n",
      "\n",
      "   ESG Combined Score  Environmental Pillar Score  Social Pillar Score  \\\n",
      "0           42.090706                   42.413639            54.525052   \n",
      "1           11.024168                    3.084936            19.719140   \n",
      "2           14.118922                    0.000000            12.439620   \n",
      "3           11.388801                    9.095068             7.899598   \n",
      "4           47.412697                   57.199267            44.748853   \n",
      "\n",
      "   Governance Pillar Score  CO2 Equivalent Emissions Total  \n",
      "0                21.186515                         50126.0  \n",
      "1                 3.511905                             NaN  \n",
      "2                37.821429                             NaN  \n",
      "3                19.940476                             NaN  \n",
      "4                41.250000                        446834.0  \n"
     ]
    }
   ],
   "source": [
    "print(df2020.head())"
   ]
  },
  {
   "cell_type": "code",
   "execution_count": 8,
   "metadata": {},
   "outputs": [
    {
     "name": "stdout",
     "output_type": "stream",
     "text": [
      "   Unnamed: 0 Updated at 12:06:08  \\\n",
      "0         NaN               KE.OQ   \n",
      "1         NaN            PATAm.BA   \n",
      "2         NaN            COMEm.BA   \n",
      "3         NaN            SEMIm.BA   \n",
      "4         NaN            LEDEm.BA   \n",
      "\n",
      "                            Company Common Name       Country of Exchange  \\\n",
      "0                       Kimball Electronics Inc  United States of America   \n",
      "1  Importadora y Exportadora de la Patagonia SA                 Argentina   \n",
      "2               Sociedad Comercial del Plata SA                 Argentina   \n",
      "3                        Molinos Juan Semino SA                 Argentina   \n",
      "4                                  Ledesma SAAI                 Argentina   \n",
      "\n",
      "                   TRBC Industry Group Name  Company Market Cap  ESG Score  \\\n",
      "0  Semiconductors & Semiconductor Equipment          421.603564  40.197088   \n",
      "1                     Food & Drug Retailing          589.556429   5.495218   \n",
      "2                                 Oil & Gas          552.127894  16.448145   \n",
      "3                            Food & Tobacco           65.390005   9.152392   \n",
      "4                            Food & Tobacco          615.819654  45.714994   \n",
      "\n",
      "   ESG Combined Score  Environmental Pillar Score  Social Pillar Score  \\\n",
      "0           40.197088                   34.726769            53.404231   \n",
      "1            5.495218                    3.604869             6.828940   \n",
      "2           16.448145                    0.000000            12.401583   \n",
      "3            9.152392                    6.606765             6.045020   \n",
      "4           45.714994                   59.243763            42.320246   \n",
      "\n",
      "   Governance Pillar Score  CO2 Equivalent Emissions Total  \n",
      "0                24.969684                         52323.0  \n",
      "1                 4.880952                             NaN  \n",
      "2                47.788462                             NaN  \n",
      "3                17.321429                             NaN  \n",
      "4                36.698718                        493245.0  \n"
     ]
    }
   ],
   "source": [
    "print(df2019.head())"
   ]
  },
  {
   "cell_type": "code",
   "execution_count": 9,
   "metadata": {},
   "outputs": [],
   "source": [
    "df2023.rename(columns=lambda col: \"Ticker\" if col.startswith(\"Updated\") else col, inplace=True)\n",
    "df2022.rename(columns=lambda col: \"Ticker\" if col.startswith(\"Updated\") else col, inplace=True)\n",
    "df2021.rename(columns=lambda col: \"Ticker\" if col.startswith(\"Updated\") else col, inplace=True)\n",
    "df2020.rename(columns=lambda col: \"Ticker\" if col.startswith(\"Updated\") else col, inplace=True)\n",
    "df2019.rename(columns=lambda col: \"Ticker\" if col.startswith(\"Updated\") else col, inplace=True)\n"
   ]
  },
  {
   "cell_type": "code",
   "execution_count": 10,
   "metadata": {},
   "outputs": [],
   "source": [
    "dfs = [df2023, df2022, df2021, df2020, df2019]"
   ]
  },
  {
   "cell_type": "code",
   "execution_count": 11,
   "metadata": {},
   "outputs": [],
   "source": [
    "# Add snapshot dates (adjust these dates accordingly)\n",
    "dfs[0]['snapshot_date'] = '2023-01-01'\n",
    "dfs[1]['snapshot_date'] = '2022-01-01'\n",
    "dfs[2]['snapshot_date'] = '2021-01-01'\n",
    "dfs[3]['snapshot_date'] = '2020-01-01'\n",
    "dfs[4]['snapshot_date'] = '2019-01-01'\n"
   ]
  },
  {
   "cell_type": "code",
   "execution_count": 12,
   "metadata": {},
   "outputs": [],
   "source": [
    "# Iterate over each DataFrame and drop the 'Unnamed: 0' column if it exists\n",
    "for df in dfs:\n",
    "    if 'Unnamed: 0' in df.columns:\n",
    "        df.drop(columns=['Unnamed: 0'], inplace=True)"
   ]
  },
  {
   "cell_type": "code",
   "execution_count": 13,
   "metadata": {},
   "outputs": [
    {
     "name": "stdout",
     "output_type": "stream",
     "text": [
      "     Ticker                           Company Common Name  \\\n",
      "0     KE.OQ                       Kimball Electronics Inc   \n",
      "1  PATAm.BA  Importadora y Exportadora de la Patagonia SA   \n",
      "2  COMEm.BA               Sociedad Comercial del Plata SA   \n",
      "3  SEMIm.BA                        Molinos Juan Semino SA   \n",
      "4  LEDEm.BA                                  Ledesma SAAI   \n",
      "\n",
      "        Country of Exchange                  TRBC Industry Group Name  \\\n",
      "0  United States of America  Semiconductors & Semiconductor Equipment   \n",
      "1                 Argentina                     Food & Drug Retailing   \n",
      "2                 Argentina                                 Oil & Gas   \n",
      "3                 Argentina                            Food & Tobacco   \n",
      "4                 Argentina                            Food & Tobacco   \n",
      "\n",
      "   Company Market Cap  ESG Score  ESG Combined Score  \\\n",
      "0          421.603564  67.064215           67.064215   \n",
      "1          589.556429  45.458277           45.458277   \n",
      "2          552.127894  11.364004           11.364004   \n",
      "3           65.390005  15.824049           15.824049   \n",
      "4          615.819654  55.046961           55.046961   \n",
      "\n",
      "   Environmental Pillar Score  Social Pillar Score  Governance Pillar Score  \\\n",
      "0                   46.880733            81.869163                66.856230   \n",
      "1                   49.498543            43.414311                45.485056   \n",
      "2                    0.000000            12.111415                26.698328   \n",
      "3                    7.133378             7.054445                40.535714   \n",
      "4                   66.258861            49.278145                52.681104   \n",
      "\n",
      "   CO2 Equivalent Emissions Total snapshot_date  \n",
      "0                        44495.00    2022-01-01  \n",
      "1                       125043.57    2022-01-01  \n",
      "2                             NaN    2022-01-01  \n",
      "3                             NaN    2022-01-01  \n",
      "4                       433118.00    2022-01-01  \n"
     ]
    }
   ],
   "source": [
    "print(df2022.head())"
   ]
  },
  {
   "cell_type": "code",
   "execution_count": 14,
   "metadata": {},
   "outputs": [
    {
     "name": "stdout",
     "output_type": "stream",
     "text": [
      "     Ticker                           Company Common Name  \\\n",
      "0     KE.OQ                       Kimball Electronics Inc   \n",
      "1  PATAm.BA  Importadora y Exportadora de la Patagonia SA   \n",
      "2  COMEm.BA               Sociedad Comercial del Plata SA   \n",
      "3  SEMIm.BA                        Molinos Juan Semino SA   \n",
      "4  LEDEm.BA                                  Ledesma SAAI   \n",
      "\n",
      "        Country of Exchange                  TRBC Industry Group Name  \\\n",
      "0  United States of America  Semiconductors & Semiconductor Equipment   \n",
      "1                 Argentina                     Food & Drug Retailing   \n",
      "2                 Argentina                                 Oil & Gas   \n",
      "3                 Argentina                            Food & Tobacco   \n",
      "4                 Argentina                            Food & Tobacco   \n",
      "\n",
      "   Company Market Cap  ESG Score  ESG Combined Score  \\\n",
      "0          421.603564  60.265818           60.265818   \n",
      "1          589.556429  51.744967           51.744967   \n",
      "2          552.127894  11.556929           11.556929   \n",
      "3           65.390005  14.534826           14.534826   \n",
      "4          615.819654  50.554813           50.554813   \n",
      "\n",
      "   Environmental Pillar Score  Social Pillar Score  Governance Pillar Score  \\\n",
      "0                   52.283778            79.742480                37.707773   \n",
      "1                   38.371223            52.857349                60.952381   \n",
      "2                    0.000000            12.288542                27.202381   \n",
      "3                    5.931264             7.512968                36.130952   \n",
      "4                   62.406509            46.293266                44.880952   \n",
      "\n",
      "   CO2 Equivalent Emissions Total snapshot_date  \n",
      "0                        54401.00    2023-01-01  \n",
      "1                       134770.29    2023-01-01  \n",
      "2                             NaN    2023-01-01  \n",
      "3                             NaN    2023-01-01  \n",
      "4                       453667.00    2023-01-01  \n"
     ]
    }
   ],
   "source": [
    "print(df2023.head())"
   ]
  },
  {
   "cell_type": "code",
   "execution_count": 15,
   "metadata": {},
   "outputs": [],
   "source": [
    "# Concatenate the snapshots to form a time series DataFrame\n",
    "merged_df = pd.concat(dfs, ignore_index=True)\n",
    "merged_df = merged_df.sort_values(by=['Company Common Name', 'snapshot_date'])\n"
   ]
  },
  {
   "cell_type": "code",
   "execution_count": 16,
   "metadata": {},
   "outputs": [
    {
     "name": "stdout",
     "output_type": "stream",
     "text": [
      "       Ticker Company Common Name Country of Exchange  \\\n",
      "24503  1U1.DE              1&1 AG             Germany   \n",
      "18644  1U1.DE              1&1 AG             Germany   \n",
      "12393  1U1.DE              1&1 AG             Germany   \n",
      "5959   1U1.DE              1&1 AG             Germany   \n",
      "656    1U1.DE              1&1 AG             Germany   \n",
      "\n",
      "          TRBC Industry Group Name  Company Market Cap  ESG Score  \\\n",
      "24503  Telecommunications Services         2788.711739  34.932175   \n",
      "18644  Telecommunications Services         2788.711739  42.295216   \n",
      "12393  Telecommunications Services         2788.711739  58.497492   \n",
      "5959   Telecommunications Services         2788.711739  69.198438   \n",
      "656    Telecommunications Services         2788.711739  69.940814   \n",
      "\n",
      "       ESG Combined Score  Environmental Pillar Score  Social Pillar Score  \\\n",
      "24503           34.932175                   39.433142            37.899445   \n",
      "18644           42.295216                   45.422365            46.492585   \n",
      "12393           58.497492                   49.344504            69.315140   \n",
      "5959            69.198438                   52.597264            75.986168   \n",
      "656             69.940814                   59.690056            75.210116   \n",
      "\n",
      "       Governance Pillar Score  CO2 Equivalent Emissions Total snapshot_date  \n",
      "24503                25.530407                           936.9    2019-01-01  \n",
      "18644                31.479677                           954.9    2020-01-01  \n",
      "12393                43.819390                          1107.3    2021-01-01  \n",
      "5959                 68.312834                          1653.3    2022-01-01  \n",
      "656                  67.231850                          3819.0    2023-01-01  \n"
     ]
    }
   ],
   "source": [
    "print(merged_df.head())"
   ]
  },
  {
   "cell_type": "code",
   "execution_count": 17,
   "metadata": {},
   "outputs": [
    {
     "name": "stdout",
     "output_type": "stream",
     "text": [
      "Number of rows remaining: 16628\n"
     ]
    }
   ],
   "source": [
    "# Drop rows with any missing values\n",
    "df_merged = merged_df.dropna()\n",
    "\n",
    "# Count the number of remaining rows\n",
    "row_count = df_merged.shape[0]\n",
    "print(\"Number of rows remaining:\", row_count)"
   ]
  },
  {
   "cell_type": "code",
   "execution_count": 18,
   "metadata": {},
   "outputs": [],
   "source": [
    "# Save the merged dataset to a new Excel file\n",
    "df_merged.to_excel('C:/Users/jr24440/Downloads/merged_dataset_ESG.xlsx', index=False)"
   ]
  },
  {
   "cell_type": "code",
   "execution_count": 22,
   "metadata": {},
   "outputs": [
    {
     "name": "stdout",
     "output_type": "stream",
     "text": [
      "\n",
      "Summary Statistics for Numeric Columns:\n",
      "       Company Market Cap     ESG Score  ESG Combined Score  \\\n",
      "count        1.662800e+04  16628.000000        16628.000000   \n",
      "mean         2.185141e+04     57.146214           54.751799   \n",
      "std          1.175848e+05     17.443869           16.632292   \n",
      "min          1.563216e-04      3.479549            3.479549   \n",
      "25%          8.486039e+02     44.954619           43.124081   \n",
      "50%          3.135419e+03     58.394845           55.584509   \n",
      "75%          1.205790e+04     70.520675           67.280473   \n",
      "max          3.331340e+06     95.874190           94.702085   \n",
      "\n",
      "       Environmental Pillar Score  Social Pillar Score  \\\n",
      "count                16628.000000         16628.000000   \n",
      "mean                    54.252519            60.033703   \n",
      "std                     22.962438            20.141885   \n",
      "min                      0.000000             0.313364   \n",
      "25%                     36.435559            45.697951   \n",
      "50%                     55.816831            61.925523   \n",
      "75%                     72.743354            75.925086   \n",
      "max                     98.995479            97.966208   \n",
      "\n",
      "       Governance Pillar Score  CO2 Equivalent Emissions Total  \n",
      "count             16628.000000                    1.662800e+04  \n",
      "mean                 56.894934                    1.700634e+06  \n",
      "std                  21.832604                    8.378973e+06  \n",
      "min                   0.677507                    0.000000e+00  \n",
      "25%                  40.493639                    6.632000e+03  \n",
      "50%                  59.263331                    5.152335e+04  \n",
      "75%                  74.593019                    3.626060e+05  \n",
      "max                  99.488254                    2.556800e+08  \n",
      "Unique Company Common Names: 4227\n",
      "Unique Countries of Exchange: 34\n",
      "Unique TRBC Industry Group Names: 59\n",
      "\n",
      "Top 10 Company Common Names:\n",
      "Company Common Name\n",
      "1&1 AG                                 5\n",
      "LVMH Moet Hennessy Louis Vuitton SE    5\n",
      "L3Harris Technologies Inc              5\n",
      "LATAM Airlines Group SA                5\n",
      "LEG Immobilien SE                      5\n",
      "LKQ Corp                               5\n",
      "LPKF Laser & Electronics SE            5\n",
      "LPL Financial Holdings Inc             5\n",
      "LPP SA                                 5\n",
      "LSL Property Services PLC              5\n",
      "Name: count, dtype: int64\n",
      "\n",
      "Records per Snapshot Date:\n",
      "snapshot_date\n",
      "2019-01-01    2597\n",
      "2020-01-01    3174\n",
      "2021-01-01    3600\n",
      "2022-01-01    3852\n",
      "2023-01-01    3405\n",
      "Name: count, dtype: int64\n",
      "\n",
      "Median Values for Numeric Columns:\n",
      "Company Market Cap                 3135.419466\n",
      "ESG Score                            58.394845\n",
      "ESG Combined Score                   55.584509\n",
      "Environmental Pillar Score           55.816831\n",
      "Social Pillar Score                  61.925523\n",
      "Governance Pillar Score              59.263331\n",
      "CO2 Equivalent Emissions Total    51523.345000\n",
      "dtype: float64\n"
     ]
    }
   ],
   "source": [
    "import pandas as pd\n",
    "\n",
    "# 2. Summary statistics for numeric columns\n",
    "print(\"\\nSummary Statistics for Numeric Columns:\")\n",
    "print(df_merged.describe())\n",
    "\n",
    "# 3. Unique counts for categorical columns\n",
    "print(\"Unique Company Common Names:\", df_merged['Company Common Name'].nunique())\n",
    "print(\"Unique Countries of Exchange:\", df_merged['Country of Exchange'].nunique())\n",
    "print(\"Unique TRBC Industry Group Names:\", df_merged['TRBC Industry Group Name'].nunique())\n",
    "\n",
    "# 4. Value counts for some of the categorical variables (showing a few examples)\n",
    "print(\"\\nTop 10 Company Common Names:\")\n",
    "print(df_merged['Company Common Name'].value_counts().head(10))\n",
    "print(\"\\nRecords per Snapshot Date:\")\n",
    "print(df_merged['snapshot_date'].value_counts().sort_index())\n",
    "\n",
    "# 6. Additional statistics, e.g., median values for numeric columns\n",
    "print(\"\\nMedian Values for Numeric Columns:\")\n",
    "print(df_merged.median(numeric_only=True))\n"
   ]
  },
  {
   "cell_type": "code",
   "execution_count": null,
   "metadata": {},
   "outputs": [
    {
     "name": "stdout",
     "output_type": "stream",
     "text": [
      "Top 15 Companies by Market Cap (in millions):\n",
      "         Company Common Name  Company Market Cap\n",
      "2311               Apple Inc        3.331340e+06\n",
      "2507          Microsoft Corp        2.899030e+06\n",
      "2905             NVIDIA Corp        2.775744e+06\n",
      "2299          Amazon.com Inc        2.131521e+06\n",
      "3774            Alphabet Inc        2.026524e+06\n",
      "3201      Meta Platforms Inc        1.548015e+06\n",
      "2687  Berkshire Hathaway Inc        1.149848e+06\n",
      "4980               Tesla Inc        8.750856e+05\n",
      "4675            Broadcom Inc        8.429183e+05\n",
      "2047        Eli Lilly and Co        7.837595e+05\n",
      "3468     JPMorgan Chase & Co        7.019065e+05\n",
      "2270             Walmart Inc        6.831157e+05\n",
      "3347                Visa Inc        6.723820e+05\n",
      "2766        Exxon Mobil Corp        5.131905e+05\n",
      "1688          Mastercard Inc        5.005918e+05\n",
      "\n",
      "Top 15 Companies by ESG Score:\n",
      "            Company Common Name  ESG Score\n",
      "5032             BNP Paribas SA  95.271519\n",
      "552       STMicroelectronics NV  94.131106\n",
      "1203                    Abb Ltd  93.907152\n",
      "1278            AstraZeneca PLC  93.826478\n",
      "4204                     SAP SE  93.743121\n",
      "706                  Allianz SE  93.732806\n",
      "1168           Roche Holding AG  93.418248\n",
      "2133              Owens Corning  93.127900\n",
      "683      Mercedes-Benz Group AG  92.914906\n",
      "2507             Microsoft Corp  92.885826\n",
      "3520  Banco Santander Brasil SA  92.197918\n",
      "4426                 Signify NV  91.914509\n",
      "484                   Nokia Oyj  91.534849\n",
      "3799               Glencore PLC  91.514539\n",
      "5012         Banco Santander SA  91.305286\n",
      "\n",
      "Top 15 Companies by CO2 Emissions (tons CO2e):\n",
      "                      Company Common Name  CO2 Equivalent Emissions Total\n",
      "987                           Gazprom PAO                    2.425800e+08\n",
      "3471                     ArcelorMittal SA                    1.858000e+08\n",
      "1174                            Holcim AG                    1.290000e+08\n",
      "2766                     Exxon Mobil Corp                    1.090000e+08\n",
      "4476                          Vistra Corp                    1.057724e+08\n",
      "634                                RWE AG                    9.642000e+07\n",
      "1777                          Southern Co                    8.825041e+07\n",
      "1943                     Duke Energy Corp                    8.486967e+07\n",
      "991     Neftyanaya Kompaniya Rosneft' PAO                    8.120000e+07\n",
      "886                             Shell PLC                    8.100000e+07\n",
      "1806  American Electric Power Company Inc                    7.929043e+07\n",
      "3389                   Inter RAO YEES PAO                    7.889118e+07\n",
      "628               Heidelberg Materials AG                    7.868000e+07\n",
      "805                              Enel SpA                    7.501000e+07\n",
      "1903                         Chevron Corp                    6.400000e+07\n"
     ]
    },
    {
     "ename": "",
     "evalue": "",
     "output_type": "error",
     "traceback": [
      "\u001b[1;31mThe Kernel crashed while executing code in the current cell or a previous cell. \n",
      "\u001b[1;31mPlease review the code in the cell(s) to identify a possible cause of the failure. \n",
      "\u001b[1;31mClick <a href='https://aka.ms/vscodeJupyterKernelCrash'>here</a> for more info. \n",
      "\u001b[1;31mView Jupyter <a href='command:jupyter.viewOutput'>log</a> for further details."
     ]
    }
   ],
   "source": [
    "# Top 15 companies by Market Cap (in millions)\n",
    "top15_market_cap = (\n",
    "    df.sort_values(by='Company Market Cap', ascending=False)\n",
    "      .drop_duplicates(subset=['Company Common Name'])\n",
    "      .head(15)\n",
    ")\n",
    "\n",
    "# Top 15 companies by ESG Score\n",
    "top15_esg_score = (\n",
    "    df.sort_values(by='ESG Score', ascending=False)\n",
    "      .drop_duplicates(subset=['Company Common Name'])\n",
    "      .head(15)\n",
    ")\n",
    "\n",
    "# Top 15 companies by CO2 Equivalent Emissions Total (in tons CO2e)\n",
    "top15_co2 = (\n",
    "    df.sort_values(by='CO2 Equivalent Emissions Total', ascending=False)\n",
    "      .drop_duplicates(subset=['Company Common Name'])\n",
    "      .head(15)\n",
    ")\n",
    "\n",
    "# Display the results\n",
    "print(\"Top 15 Companies by Market Cap (in millions):\")\n",
    "print(top15_market_cap[['Company Common Name', 'Company Market Cap']])\n",
    "print(\"\\nTop 15 Companies by ESG Score:\")\n",
    "print(top15_esg_score[['Company Common Name', 'ESG Score']])\n",
    "print(\"\\nTop 15 Companies by CO2 Emissions (tons CO2e):\")\n",
    "print(top15_co2[['Company Common Name', 'CO2 Equivalent Emissions Total']])"
   ]
  }
 ],
 "metadata": {
  "kernelspec": {
   "display_name": "Python 3",
   "language": "python",
   "name": "python3"
  },
  "language_info": {
   "codemirror_mode": {
    "name": "ipython",
    "version": 3
   },
   "file_extension": ".py",
   "mimetype": "text/x-python",
   "name": "python",
   "nbconvert_exporter": "python",
   "pygments_lexer": "ipython3",
   "version": "3.11.9"
  }
 },
 "nbformat": 4,
 "nbformat_minor": 2
}
